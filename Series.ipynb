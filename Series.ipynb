{
 "cells": [
  {
   "cell_type": "markdown",
   "id": "feb50487-127e-449f-9d04-4448d5da2cbd",
   "metadata": {},
   "source": [
    "# About Series"
   ]
  },
  {
   "cell_type": "markdown",
   "id": "cae12e3c-5943-4b14-9cb0-8546c59df8f4",
   "metadata": {},
   "source": [
    "- Series 란?\n",
    "  Data의 컬럼이 1개인 자료구조이며, 인덱스와 1개의 열로 구성되어 있음"
   ]
  },
  {
   "cell_type": "markdown",
   "id": "e39ce97f-b5ce-41de-8c3d-74db75b8a025",
   "metadata": {
    "jp-MarkdownHeadingCollapsed": true
   },
   "source": [
    "## Series 만드는 방법"
   ]
  },
  {
   "cell_type": "code",
   "execution_count": 1,
   "id": "0d6669c3-0bbf-4cd8-8042-2679103066a2",
   "metadata": {},
   "outputs": [],
   "source": [
    "import pandas as pd"
   ]
  },
  {
   "cell_type": "code",
   "execution_count": 5,
   "id": "a6b489b5-6883-4b94-85d0-9f242e28a7ec",
   "metadata": {},
   "outputs": [
    {
     "data": {
      "text/plain": [
       "0        1\n",
       "1        2\n",
       "2        3\n",
       "3    Apple\n",
       "4     play\n",
       "5        6\n",
       "6        7\n",
       "7        8\n",
       "8        9\n",
       "dtype: object"
      ]
     },
     "execution_count": 5,
     "metadata": {},
     "output_type": "execute_result"
    }
   ],
   "source": [
    "# Data Type이 '리스트'인 경우\n",
    "\n",
    "ls1 = [1, 2, 3, 4, 5, 6, 7, 8, 9]\n",
    "ls2 = [1, 2, 3, 'Apple', 'play', 6, 7, 8, 9]\n",
    "\n",
    "sr1 = pd.Series(ls1)\n",
    "sr1\n",
    "\n",
    "sr2 = pd.Series(ls2)\n",
    "sr2"
   ]
  },
  {
   "cell_type": "code",
   "execution_count": 6,
   "id": "c79ddcd2-134d-43de-a873-4433c130cbc3",
   "metadata": {},
   "outputs": [
    {
     "data": {
      "text/plain": [
       "0        1\n",
       "1        2\n",
       "2        3\n",
       "3    Apple\n",
       "4     play\n",
       "5        6\n",
       "6        7\n",
       "7        8\n",
       "8        9\n",
       "Name: Word, dtype: object"
      ]
     },
     "execution_count": 6,
     "metadata": {},
     "output_type": "execute_result"
    }
   ],
   "source": [
    "# Series에 Name 설정\n",
    "\n",
    "sr1.name = \"Number\"\n",
    "sr2.name = \"Word\"\n",
    "sr2"
   ]
  },
  {
   "cell_type": "code",
   "execution_count": 9,
   "id": "d3e40dbc-477a-48da-bb12-bbde1348b3b9",
   "metadata": {},
   "outputs": [
    {
     "data": {
      "text/plain": [
       "a    1\n",
       "b    2\n",
       "c    3\n",
       "d    4\n",
       "Name: Number, dtype: int64"
      ]
     },
     "execution_count": 9,
     "metadata": {},
     "output_type": "execute_result"
    }
   ],
   "source": [
    "# Data Type이 '딕셔너리'인 경우\n",
    "dic1 = {'a':1, 'b':2, 'c':3, 'd':4}\n",
    "\n",
    "sr3 = pd.Series(dic1)\n",
    "sr3\n",
    "sr3.name = \"Number\"\n",
    "sr3"
   ]
  },
  {
   "cell_type": "markdown",
   "id": "c9a56bf6-f7a6-4a5a-9083-ab4bd503bee4",
   "metadata": {
    "jp-MarkdownHeadingCollapsed": true
   },
   "source": [
    "## 삼성전자 종가 Series로 불러오기"
   ]
  },
  {
   "cell_type": "code",
   "execution_count": 22,
   "id": "9f875329-007d-4e2c-83c1-f49eefd9f92b",
   "metadata": {},
   "outputs": [
    {
     "data": {
      "text/plain": [
       "Date\n",
       "2018-01-02    51020\n",
       "2018-01-03    51620\n",
       "2018-01-04    51080\n",
       "2018-01-05    52120\n",
       "2018-01-08    52020\n",
       "              ...  \n",
       "2021-12-13    76800\n",
       "2021-12-14    77000\n",
       "2021-12-15    77600\n",
       "2021-12-16    77800\n",
       "2021-12-17    78000\n",
       "Name: Close, Length: 977, dtype: int64"
      ]
     },
     "execution_count": 22,
     "metadata": {},
     "output_type": "execute_result"
    }
   ],
   "source": [
    "import pandas as pd\n",
    "\n",
    "# squeeze 옵션은 Pandas 1.2.0 이후 제거되었으므로, squeeze=True 없이 실행\n",
    "# 이전 squeeze=True의 기능을 대체하려면 squeeze() 메서드를 따로 적용\n",
    "a = pd.read_csv('삼성전자 종가.csv', index_col=0, header = 0).squeeze(\"columns\")\n",
    "a"
   ]
  },
  {
   "cell_type": "markdown",
   "id": "0f2125b1-4374-445d-974c-944edd4da73c",
   "metadata": {
    "jp-MarkdownHeadingCollapsed": true
   },
   "source": [
    "## Series Index & Value"
   ]
  },
  {
   "cell_type": "code",
   "execution_count": 25,
   "id": "f4e9211a-a806-49eb-af79-444e50ac125b",
   "metadata": {},
   "outputs": [
    {
     "data": {
      "text/plain": [
       "Date\n",
       "2018-01-02    51020\n",
       "2018-01-03    51620\n",
       "2018-01-04    51080\n",
       "2018-01-05    52120\n",
       "2018-01-08    52020\n",
       "              ...  \n",
       "2021-12-13    76800\n",
       "2021-12-14    77000\n",
       "2021-12-15    77600\n",
       "2021-12-16    77800\n",
       "2021-12-17    78000\n",
       "Name: Close, Length: 977, dtype: int64"
      ]
     },
     "execution_count": 25,
     "metadata": {},
     "output_type": "execute_result"
    }
   ],
   "source": [
    "import pandas as pd\n",
    "\n",
    "samsung_price = pd.read_csv('삼성전자 종가.csv', index_col=0, header = 0).squeeze(\"columns\")\n",
    "samsung_price"
   ]
  },
  {
   "cell_type": "code",
   "execution_count": 26,
   "id": "bfea8603-06a4-4009-8c2f-21f5d0c27023",
   "metadata": {},
   "outputs": [
    {
     "data": {
      "text/plain": [
       "Index(['2018-01-02', '2018-01-03', '2018-01-04', '2018-01-05', '2018-01-08',\n",
       "       '2018-01-09', '2018-01-10', '2018-01-11', '2018-01-12', '2018-01-15',\n",
       "       ...\n",
       "       '2021-12-06', '2021-12-07', '2021-12-08', '2021-12-09', '2021-12-10',\n",
       "       '2021-12-13', '2021-12-14', '2021-12-15', '2021-12-16', '2021-12-17'],\n",
       "      dtype='object', name='Date', length=977)"
      ]
     },
     "execution_count": 26,
     "metadata": {},
     "output_type": "execute_result"
    }
   ],
   "source": [
    "samsung_price.index"
   ]
  },
  {
   "cell_type": "code",
   "execution_count": 29,
   "id": "1a472b1b-13c4-46cb-b0d4-bf605ff1a2e0",
   "metadata": {},
   "outputs": [
    {
     "name": "stdout",
     "output_type": "stream",
     "text": [
      "73800\n"
     ]
    }
   ],
   "source": [
    "if '2020-12-15' in samsung_price.index:\n",
    "    print(samsung_price.loc['2020-12-15'])\n",
    "\n",
    "# loc 특정한 인덱스의 값이 있는지 확인"
   ]
  },
  {
   "cell_type": "code",
   "execution_count": 31,
   "id": "66517edc-d1f6-40d8-8948-2e22878b8565",
   "metadata": {},
   "outputs": [
    {
     "data": {
      "text/plain": [
       "49500"
      ]
     },
     "execution_count": 31,
     "metadata": {},
     "output_type": "execute_result"
    }
   ],
   "source": [
    "samsung_price.iloc[100]\n",
    "\n",
    "# iloc 인덱스(번호) 값 가져오기"
   ]
  },
  {
   "cell_type": "markdown",
   "id": "6b99a3a7-b899-43df-a7ec-b0ebe25f3e69",
   "metadata": {
    "jp-MarkdownHeadingCollapsed": true
   },
   "source": [
    "## Series에 새로운 행을 추가"
   ]
  },
  {
   "cell_type": "code",
   "execution_count": 32,
   "id": "5e3efbf9-a7a8-49c8-b445-1b0cd51b3612",
   "metadata": {},
   "outputs": [
    {
     "data": {
      "text/plain": [
       "Date\n",
       "2018-01-02    51020\n",
       "2018-01-03    51620\n",
       "2018-01-04    51080\n",
       "2018-01-05    52120\n",
       "2018-01-08    52020\n",
       "              ...  \n",
       "2021-12-13    76800\n",
       "2021-12-14    77000\n",
       "2021-12-15    77600\n",
       "2021-12-16    77800\n",
       "2021-12-17    78000\n",
       "Name: Close, Length: 977, dtype: int64"
      ]
     },
     "execution_count": 32,
     "metadata": {},
     "output_type": "execute_result"
    }
   ],
   "source": [
    "import pandas as pd\n",
    "\n",
    "samsung_price = pd.read_csv('삼성전자 종가.csv', index_col=0, header = 0).squeeze(\"columns\")\n",
    "samsung_price"
   ]
  },
  {
   "cell_type": "code",
   "execution_count": 37,
   "id": "797afd4b-df91-45f5-ab8c-bd6fa85103f1",
   "metadata": {},
   "outputs": [
    {
     "data": {
      "text/plain": [
       "(977,)"
      ]
     },
     "execution_count": 37,
     "metadata": {},
     "output_type": "execute_result"
    }
   ],
   "source": [
    "# 총 길이는?\n",
    "#samsung_price.index[samsung_price.shape[0]-1]\n",
    "samsung_price.shape"
   ]
  },
  {
   "cell_type": "code",
   "execution_count": 41,
   "id": "375b9a48-9850-4965-a28c-9b2e42b654d8",
   "metadata": {},
   "outputs": [
    {
     "data": {
      "text/plain": [
       "Date\n",
       "2018-01-02    51020\n",
       "2018-01-03    51620\n",
       "2018-01-04    51080\n",
       "2018-01-05    52120\n",
       "2018-01-08    52020\n",
       "              ...  \n",
       "2021-12-14    77000\n",
       "2021-12-15    77600\n",
       "2021-12-16      100\n",
       "2021-12-17    78000\n",
       "2021-12-20    77100\n",
       "Name: Close, Length: 978, dtype: int64"
      ]
     },
     "execution_count": 41,
     "metadata": {},
     "output_type": "execute_result"
    }
   ],
   "source": [
    "samsung_price.loc['2021-12-20'] = 77100\n",
    "samsung_price\n",
    "\n",
    "samsung_price.loc['2021-12-16'] = 100\n",
    "samsung_price"
   ]
  },
  {
   "cell_type": "markdown",
   "id": "55c1605d-09c7-450a-9370-81fbde98355a",
   "metadata": {
    "jp-MarkdownHeadingCollapsed": true
   },
   "source": [
    "## 두개의 Series 연결"
   ]
  },
  {
   "cell_type": "code",
   "execution_count": 10,
   "id": "5152115a-b7c3-4be8-a3f9-cc00fb4ce8cb",
   "metadata": {},
   "outputs": [
    {
     "data": {
      "text/plain": [
       "Date\n",
       "2018-01-02    51020\n",
       "2018-01-03    51620\n",
       "2018-01-04    51080\n",
       "2018-01-05    52120\n",
       "2018-01-08    52020\n",
       "              ...  \n",
       "2021-12-20    77100\n",
       "2021-12-21    78100\n",
       "2021-12-22    79400\n",
       "2021-12-23    79900\n",
       "2021-12-24    80500\n",
       "Name: Close, Length: 982, dtype: int64"
      ]
     },
     "execution_count": 10,
     "metadata": {},
     "output_type": "execute_result"
    }
   ],
   "source": [
    "import pandas as pd\n",
    "\n",
    "series1_samsung = pd.read_excel('samsung_excel.xlsx', sheet_name = 'Sheet1', index_col = 0).squeeze(\"columns\")\n",
    "series1_samsung\n",
    "\n",
    "series2_samsung = pd.read_excel('samsung_excel.xlsx', sheet_name = 'Sheet2', index_col = 0).squeeze(\"columns\")\n",
    "series2_samsung\n",
    "\n",
    "\n",
    "# Pandas 1.3.0 이후 버전에서 Series.append()가 제거되었음\n",
    "# pd.concat() 사용\n",
    "\n",
    "series_samsung = pd.concat([series1_samsung, series2_samsung], ignore_index=False)\n",
    "series_samsung"
   ]
  },
  {
   "cell_type": "markdown",
   "id": "bf50f255-6425-4268-9219-4239e36e3e72",
   "metadata": {
    "jp-MarkdownHeadingCollapsed": true
   },
   "source": [
    "## Series 기본 통계치 구하기"
   ]
  },
  {
   "cell_type": "code",
   "execution_count": 1,
   "id": "6349fb12-d63f-475d-bf7d-4a1eb487a7ef",
   "metadata": {},
   "outputs": [
    {
     "data": {
      "text/plain": [
       "Date\n",
       "2018-01-02    51020\n",
       "2018-01-03    51620\n",
       "2018-01-04    51080\n",
       "2018-01-05    52120\n",
       "2018-01-08    52020\n",
       "              ...  \n",
       "2021-12-13    76800\n",
       "2021-12-14    77000\n",
       "2021-12-15    77600\n",
       "2021-12-16    77800\n",
       "2021-12-17    78000\n",
       "Name: Close, Length: 977, dtype: int64"
      ]
     },
     "execution_count": 1,
     "metadata": {},
     "output_type": "execute_result"
    }
   ],
   "source": [
    "import pandas as pd\n",
    "\n",
    "samsung_price = pd.read_csv('삼성전자 종가.csv', index_col=0, header = 0).squeeze(\"columns\")\n",
    "samsung_price"
   ]
  },
  {
   "cell_type": "code",
   "execution_count": 3,
   "id": "789ed1d3-3a52-481f-8687-d617b18675a2",
   "metadata": {},
   "outputs": [
    {
     "data": {
      "text/plain": [
       "count      977.000000\n",
       "mean     57295.854657\n",
       "std      14084.402274\n",
       "min      37450.000000\n",
       "25%      46300.000000\n",
       "50%      51300.000000\n",
       "75%      70200.000000\n",
       "max      91000.000000\n",
       "Name: Close, dtype: float64"
      ]
     },
     "execution_count": 3,
     "metadata": {},
     "output_type": "execute_result"
    }
   ],
   "source": [
    "# 삼성전자 고점, 저점\n",
    "\n",
    "samsung_price.max()\n",
    "samsung_price.min()\n",
    "samsung_price.describe()"
   ]
  },
  {
   "cell_type": "code",
   "execution_count": 6,
   "id": "268f577f-15b6-40a9-bf05-eac8975e72d8",
   "metadata": {},
   "outputs": [
    {
     "data": {
      "text/plain": [
       "Index(['2019-01-04'], dtype='object', name='Date')"
      ]
     },
     "execution_count": 6,
     "metadata": {},
     "output_type": "execute_result"
    }
   ],
   "source": [
    "samsung_price.index[samsung_price.values == samsung_price.max()]\n",
    "samsung_price.index[samsung_price.values == samsung_price.min()]"
   ]
  },
  {
   "cell_type": "code",
   "execution_count": 9,
   "id": "c8bca806-5054-4a7c-86ca-80b5a8fc0ff0",
   "metadata": {},
   "outputs": [
    {
     "data": {
      "text/plain": [
       "'2021-01-11'"
      ]
     },
     "execution_count": 9,
     "metadata": {},
     "output_type": "execute_result"
    }
   ],
   "source": [
    "samsung_price.iloc[samsung_price.argmin()]\n",
    "samsung_price.index[samsung_price.argmin()]\n",
    "samsung_price.iloc[samsung_price.argmax()]\n",
    "samsung_price.index[samsung_price.argmax()]"
   ]
  },
  {
   "cell_type": "markdown",
   "id": "064fc2d2-e171-4e2b-bd34-6a49a763cf94",
   "metadata": {
    "jp-MarkdownHeadingCollapsed": true
   },
   "source": [
    "## Series 연산\n",
    "- 삼성전자 수익률 구하기"
   ]
  },
  {
   "cell_type": "code",
   "execution_count": 1,
   "id": "b7d1682a-6bea-4039-a410-b519095a4ad0",
   "metadata": {},
   "outputs": [
    {
     "data": {
      "text/plain": [
       "Date\n",
       "2018-01-02    51020\n",
       "2018-01-03    51620\n",
       "2018-01-04    51080\n",
       "2018-01-05    52120\n",
       "2018-01-08    52020\n",
       "              ...  \n",
       "2021-12-13    76800\n",
       "2021-12-14    77000\n",
       "2021-12-15    77600\n",
       "2021-12-16    77800\n",
       "2021-12-17    78000\n",
       "Name: Close, Length: 977, dtype: int64"
      ]
     },
     "execution_count": 1,
     "metadata": {},
     "output_type": "execute_result"
    }
   ],
   "source": [
    "import pandas as pd\n",
    "\n",
    "samsung_price = pd.read_csv('삼성전자 종가.csv', index_col=0, header = 0).squeeze(\"columns\")\n",
    "samsung_price"
   ]
  },
  {
   "cell_type": "code",
   "execution_count": 2,
   "id": "ba70c1ac-e0b9-4b1f-8638-a6553666790a",
   "metadata": {},
   "outputs": [
    {
     "data": {
      "text/plain": [
       "Date\n",
       "2018-01-02        NaN\n",
       "2018-01-03    51020.0\n",
       "2018-01-04    51620.0\n",
       "2018-01-05    51080.0\n",
       "2018-01-08    52120.0\n",
       "               ...   \n",
       "2021-12-13    76900.0\n",
       "2021-12-14    76800.0\n",
       "2021-12-15    77000.0\n",
       "2021-12-16    77600.0\n",
       "2021-12-17    77800.0\n",
       "Name: Close, Length: 977, dtype: float64"
      ]
     },
     "execution_count": 2,
     "metadata": {},
     "output_type": "execute_result"
    }
   ],
   "source": [
    "samsung_price.shift(1)"
   ]
  },
  {
   "cell_type": "code",
   "execution_count": 3,
   "id": "6fae1f33-435c-49bb-9b40-73ceb3399955",
   "metadata": {},
   "outputs": [
    {
     "data": {
      "text/plain": [
       "Date\n",
       "2018-01-02       NaN\n",
       "2018-01-03     600.0\n",
       "2018-01-04    -540.0\n",
       "2018-01-05    1040.0\n",
       "2018-01-08    -100.0\n",
       "               ...  \n",
       "2021-12-13    -100.0\n",
       "2021-12-14     200.0\n",
       "2021-12-15     600.0\n",
       "2021-12-16     200.0\n",
       "2021-12-17     200.0\n",
       "Name: Close, Length: 977, dtype: float64"
      ]
     },
     "execution_count": 3,
     "metadata": {},
     "output_type": "execute_result"
    }
   ],
   "source": [
    "samsung_price - samsung_price.shift(1)"
   ]
  },
  {
   "cell_type": "code",
   "execution_count": 4,
   "id": "c0f80e6d-f682-4a28-bbf6-8b6ffe6af460",
   "metadata": {},
   "outputs": [
    {
     "data": {
      "text/plain": [
       "Date\n",
       "2018-01-02         NaN\n",
       "2018-01-03    0.011760\n",
       "2018-01-04   -0.010461\n",
       "2018-01-05    0.020360\n",
       "2018-01-08   -0.001919\n",
       "                ...   \n",
       "2021-12-13   -0.001300\n",
       "2021-12-14    0.002604\n",
       "2021-12-15    0.007792\n",
       "2021-12-16    0.002577\n",
       "2021-12-17    0.002571\n",
       "Name: Close, Length: 977, dtype: float64"
      ]
     },
     "execution_count": 4,
     "metadata": {},
     "output_type": "execute_result"
    }
   ],
   "source": [
    "samsung_return = (samsung_price - samsung_price.shift(1))/samsung_price.shift(1)\n",
    "samsung_return"
   ]
  },
  {
   "cell_type": "code",
   "execution_count": 5,
   "id": "e345bf6e-3448-4dfb-a690-aeb68ebff76b",
   "metadata": {},
   "outputs": [
    {
     "data": {
      "text/plain": [
       "Date\n",
       "2018-01-02         NaN\n",
       "2018-01-03    0.011760\n",
       "2018-01-04   -0.010461\n",
       "2018-01-05    0.020360\n",
       "2018-01-08   -0.001919\n",
       "                ...   \n",
       "2021-12-13   -0.001300\n",
       "2021-12-14    0.002604\n",
       "2021-12-15    0.007792\n",
       "2021-12-16    0.002577\n",
       "2021-12-17    0.002571\n",
       "Name: Close, Length: 977, dtype: float64"
      ]
     },
     "execution_count": 5,
     "metadata": {},
     "output_type": "execute_result"
    }
   ],
   "source": [
    "samsung_price.pct_change()"
   ]
  },
  {
   "cell_type": "code",
   "execution_count": 6,
   "id": "1e9f918b-ffff-4cd7-a6eb-594432f952d8",
   "metadata": {},
   "outputs": [
    {
     "data": {
      "text/plain": [
       "0.10470588235294118"
      ]
     },
     "execution_count": 6,
     "metadata": {},
     "output_type": "execute_result"
    }
   ],
   "source": [
    "samsung_return.max()"
   ]
  },
  {
   "cell_type": "code",
   "execution_count": 7,
   "id": "ec99c50e-be31-4064-80fe-acba035f43c7",
   "metadata": {},
   "outputs": [
    {
     "data": {
      "text/plain": [
       "'2020-03-24'"
      ]
     },
     "execution_count": 7,
     "metadata": {},
     "output_type": "execute_result"
    }
   ],
   "source": [
    "samsung_return.index[samsung_return.argmax()]"
   ]
  },
  {
   "cell_type": "markdown",
   "id": "4b52f63d-670b-48f6-8d57-f0f5ed1c92fa",
   "metadata": {
    "jp-MarkdownHeadingCollapsed": true
   },
   "source": [
    "## Nan 값"
   ]
  },
  {
   "cell_type": "code",
   "execution_count": 1,
   "id": "21addda5-fec0-4fbd-98f5-43b7ae4e48fd",
   "metadata": {},
   "outputs": [
    {
     "data": {
      "text/plain": [
       "Date\n",
       "2018-01-02         NaN\n",
       "2018-01-03    0.011760\n",
       "2018-01-04   -0.010461\n",
       "2018-01-05    0.020360\n",
       "2018-01-08   -0.001919\n",
       "                ...   \n",
       "2021-12-13   -0.001300\n",
       "2021-12-14    0.002604\n",
       "2021-12-15    0.007792\n",
       "2021-12-16    0.002577\n",
       "2021-12-17    0.002571\n",
       "Name: Close, Length: 977, dtype: float64"
      ]
     },
     "execution_count": 1,
     "metadata": {},
     "output_type": "execute_result"
    }
   ],
   "source": [
    "import pandas as pd\n",
    "\n",
    "samsung_price = pd.read_csv('삼성전자 종가.csv', index_col=0, header = 0).squeeze(\"columns\")\n",
    "samsung_price\n",
    "\n",
    "samsung_return = (samsung_price - samsung_price.shift(1))/samsung_price.shift(1)\n",
    "samsung_return"
   ]
  },
  {
   "cell_type": "code",
   "execution_count": 11,
   "id": "1994d439-0885-4986-82ed-26d03a0f45f8",
   "metadata": {},
   "outputs": [
    {
     "data": {
      "text/plain": [
       "Date\n",
       "2018-01-02    0.000000\n",
       "2018-01-03    0.011760\n",
       "2018-01-04   -0.010461\n",
       "2018-01-05    0.020360\n",
       "2018-01-08   -0.001919\n",
       "                ...   \n",
       "2021-12-13   -0.001300\n",
       "2021-12-14    0.002604\n",
       "2021-12-15    0.007792\n",
       "2021-12-16    0.002577\n",
       "2021-12-17    0.002571\n",
       "Name: Close, Length: 977, dtype: float64"
      ]
     },
     "execution_count": 11,
     "metadata": {},
     "output_type": "execute_result"
    }
   ],
   "source": [
    "samsung_return.fillna(0)"
   ]
  },
  {
   "cell_type": "code",
   "execution_count": 10,
   "id": "8e52e2c8-5489-4714-b248-986091735546",
   "metadata": {},
   "outputs": [
    {
     "data": {
      "text/plain": [
       "Date\n",
       "2018-01-03    0.011760\n",
       "2018-01-04   -0.010461\n",
       "2018-01-05    0.020360\n",
       "2018-01-08   -0.001919\n",
       "2018-01-09   -0.031142\n",
       "                ...   \n",
       "2021-12-13   -0.001300\n",
       "2021-12-14    0.002604\n",
       "2021-12-15    0.007792\n",
       "2021-12-16    0.002577\n",
       "2021-12-17    0.002571\n",
       "Name: Close, Length: 976, dtype: float64"
      ]
     },
     "execution_count": 10,
     "metadata": {},
     "output_type": "execute_result"
    }
   ],
   "source": [
    "samsung_return.dropna()"
   ]
  },
  {
   "cell_type": "markdown",
   "id": "731116e7-d867-4ad6-b28e-a26868eb864b",
   "metadata": {
    "jp-MarkdownHeadingCollapsed": true
   },
   "source": [
    "## 순서대로 정렬"
   ]
  },
  {
   "cell_type": "code",
   "execution_count": 12,
   "id": "3b22c6a7-83ec-446b-b8fe-47b46d15b3c2",
   "metadata": {},
   "outputs": [
    {
     "data": {
      "text/plain": [
       "Date\n",
       "2018-01-02         NaN\n",
       "2018-01-03    0.011760\n",
       "2018-01-04   -0.010461\n",
       "2018-01-05    0.020360\n",
       "2018-01-08   -0.001919\n",
       "                ...   \n",
       "2021-12-13   -0.001300\n",
       "2021-12-14    0.002604\n",
       "2021-12-15    0.007792\n",
       "2021-12-16    0.002577\n",
       "2021-12-17    0.002571\n",
       "Name: Close, Length: 977, dtype: float64"
      ]
     },
     "execution_count": 12,
     "metadata": {},
     "output_type": "execute_result"
    }
   ],
   "source": [
    "import pandas as pd\n",
    "\n",
    "samsung_price = pd.read_csv('삼성전자 종가.csv', index_col=0, header = 0).squeeze(\"columns\")\n",
    "samsung_price\n",
    "\n",
    "samsung_return = (samsung_price - samsung_price.shift(1))/samsung_price.shift(1)\n",
    "samsung_return"
   ]
  },
  {
   "cell_type": "code",
   "execution_count": 13,
   "id": "297b2c2c-fd3d-4f89-9529-9f6eedca836b",
   "metadata": {},
   "outputs": [
    {
     "data": {
      "text/plain": [
       "Date\n",
       "2018-01-02    51020\n",
       "2018-01-03    51620\n",
       "2018-01-04    51080\n",
       "2018-01-05    52120\n",
       "2018-01-08    52020\n",
       "              ...  \n",
       "2021-12-13    76800\n",
       "2021-12-14    77000\n",
       "2021-12-15    77600\n",
       "2021-12-16    77800\n",
       "2021-12-17    78000\n",
       "Name: Close, Length: 977, dtype: int64"
      ]
     },
     "execution_count": 13,
     "metadata": {},
     "output_type": "execute_result"
    }
   ],
   "source": [
    "# index 순서대로 정렬\n",
    "samsung_price.sort_index(ascending = True)"
   ]
  },
  {
   "cell_type": "code",
   "execution_count": 14,
   "id": "e8876f86-2df6-4413-a4da-08e44bfbde70",
   "metadata": {},
   "outputs": [
    {
     "data": {
      "text/plain": [
       "Date\n",
       "2019-01-04    37450\n",
       "2019-01-03    37600\n",
       "2019-01-08    38100\n",
       "2018-12-27    38250\n",
       "2018-12-26    38350\n",
       "2018-12-21    38650\n",
       "2018-12-20    38650\n",
       "2018-12-28    38700\n",
       "2019-01-07    38750\n",
       "2019-01-02    38750\n",
       "2018-12-24    38800\n",
       "2018-12-18    38900\n",
       "2018-12-14    38950\n",
       "2018-12-19    39100\n",
       "2018-12-17    39150\n",
       "2019-01-09    39600\n",
       "2019-01-10    39800\n",
       "2018-12-13    40000\n",
       "2019-01-14    40050\n",
       "2018-12-10    40200\n",
       "2018-12-11    40250\n",
       "2018-12-12    40450\n",
       "2018-12-06    40500\n",
       "2019-01-11    40500\n",
       "2018-12-07    40950\n",
       "2018-10-25    41000\n",
       "2018-10-26    41000\n",
       "2019-01-15    41100\n",
       "2019-05-17    41200\n",
       "2018-10-29    41400\n",
       "Name: Close, dtype: int64"
      ]
     },
     "execution_count": 14,
     "metadata": {},
     "output_type": "execute_result"
    }
   ],
   "source": [
    "# value순서대로 정렬 \n",
    "samsung_price.sort_values(ascending = True).head(30)"
   ]
  },
  {
   "cell_type": "markdown",
   "id": "f06297a6-e9b6-429d-9cac-14d1cb5a67fc",
   "metadata": {},
   "source": [
    " ## Series 조건 설정"
   ]
  },
  {
   "cell_type": "code",
   "execution_count": 6,
   "id": "ab600b8e-82fd-4ace-a82e-c95719cc495d",
   "metadata": {},
   "outputs": [
    {
     "data": {
      "text/plain": [
       "Date\n",
       "2018-01-02         NaN\n",
       "2018-01-03    1.176009\n",
       "2018-01-04   -1.046106\n",
       "2018-01-05    2.036022\n",
       "2018-01-08   -0.191865\n",
       "                ...   \n",
       "2021-12-13   -0.130039\n",
       "2021-12-14    0.260417\n",
       "2021-12-15    0.779221\n",
       "2021-12-16    0.257732\n",
       "2021-12-17    0.257069\n",
       "Name: Close, Length: 977, dtype: float64"
      ]
     },
     "execution_count": 6,
     "metadata": {},
     "output_type": "execute_result"
    }
   ],
   "source": [
    "import pandas as pd\n",
    "import numpy as np\n",
    "\n",
    "samsung_price = pd.read_csv('삼성전자 종가.csv', index_col=0, header = 0).squeeze(\"columns\")\n",
    "samsung_price\n",
    "\n",
    "samsung_return = (samsung_price - samsung_price.shift(1))/samsung_price.shift(1)\n",
    "samsung_return = samsung_return * 100\n",
    "samsung_return"
   ]
  },
  {
   "cell_type": "code",
   "execution_count": 9,
   "id": "04f68df2-bdff-4711-9cd7-d5fa5a8beb60",
   "metadata": {},
   "outputs": [
    {
     "name": "stdout",
     "output_type": "stream",
     "text": [
      "1.8008474576271187\n"
     ]
    }
   ],
   "source": [
    "samsung_return[samsung_return.values >= 4]\n",
    "sum(samsung_return.values >= 4)\n",
    "print(17/944*100)"
   ]
  },
  {
   "cell_type": "code",
   "execution_count": 21,
   "id": "86437fae-10e9-4073-9862-29961994aee6",
   "metadata": {},
   "outputs": [
    {
     "data": {
      "text/plain": [
       "'Over 4%'"
      ]
     },
     "execution_count": 21,
     "metadata": {},
     "output_type": "execute_result"
    }
   ],
   "source": [
    "np.where(samsung_return.values >= 4, 1, 0)\n",
    "\n",
    "samsung_return_4 = pd.Series(np.where(samsung_return.values >= 4, \"Over 4%\", \"Under\"))\n",
    "samsung_return_4.index = samsung_return.index\n",
    "samsung_return_4.loc['2020-06-16']"
   ]
  },
  {
   "cell_type": "markdown",
   "id": "2d6ce889-cad8-427a-8e26-521ce924a6cc",
   "metadata": {},
   "source": [
    "## Series rolling"
   ]
  },
  {
   "cell_type": "code",
   "execution_count": 3,
   "id": "1f6d3bf3-e4cc-42ed-85a7-055314afee4f",
   "metadata": {},
   "outputs": [
    {
     "data": {
      "text/plain": [
       "Date\n",
       "2018-01-02    51020\n",
       "2018-01-03    51620\n",
       "2018-01-04    51080\n",
       "2018-01-05    52120\n",
       "2018-01-08    52020\n",
       "              ...  \n",
       "2021-12-13    76800\n",
       "2021-12-14    77000\n",
       "2021-12-15    77600\n",
       "2021-12-16    77800\n",
       "2021-12-17    78000\n",
       "Name: Close, Length: 977, dtype: int64"
      ]
     },
     "execution_count": 3,
     "metadata": {},
     "output_type": "execute_result"
    }
   ],
   "source": [
    "import pandas as pd\n",
    "import numpy as np\n",
    "\n",
    "samsung_price = pd.read_csv('삼성전자 종가.csv', index_col=0, header = 0).squeeze(\"columns\")\n",
    "samsung_price\n",
    "\n",
    "samsung_return = (samsung_price - samsung_price.shift(1))/samsung_price.shift(1)\n",
    "samsung_return = samsung_return * 100\n",
    "samsung_price"
   ]
  },
  {
   "cell_type": "code",
   "execution_count": 6,
   "id": "e1505217-57c5-4311-818a-4574f650790c",
   "metadata": {},
   "outputs": [
    {
     "data": {
      "text/plain": [
       "<Axes: xlabel='Date'>"
      ]
     },
     "execution_count": 6,
     "metadata": {},
     "output_type": "execute_result"
    },
    {
     "data": {
      "image/png": "[encoded data removed]",
      "text/plain": [
       "<Figure size 640x480 with 1 Axes>"
      ]
     },
     "metadata": {},
     "output_type": "display_data"
    }
   ],
   "source": [
    "samsung_price.rolling(window=30).mean().plot()"
   ]
  },
  {
   "cell_type": "markdown",
   "id": "ba779683-0a4b-46fb-ac58-fdcc1130b042",
   "metadata": {},
   "source": [
    "## Series 값의 구간을 나눠보자"
   ]
  },
  {
   "cell_type": "code",
   "execution_count": 7,
   "id": "9c8334db-e5c5-47c9-9a71-2a6233239c87",
   "metadata": {},
   "outputs": [
    {
     "data": {
      "text/plain": [
       "Date\n",
       "2018-01-02         NaN\n",
       "2018-01-03    1.176009\n",
       "2018-01-04   -1.046106\n",
       "2018-01-05    2.036022\n",
       "2018-01-08   -0.191865\n",
       "                ...   \n",
       "2021-12-13   -0.130039\n",
       "2021-12-14    0.260417\n",
       "2021-12-15    0.779221\n",
       "2021-12-16    0.257732\n",
       "2021-12-17    0.257069\n",
       "Name: Close, Length: 977, dtype: float64"
      ]
     },
     "execution_count": 7,
     "metadata": {},
     "output_type": "execute_result"
    }
   ],
   "source": [
    "import pandas as pd\n",
    "import numpy as np\n",
    "\n",
    "samsung_price = pd.read_csv('삼성전자 종가.csv', index_col=0, header = 0).squeeze(\"columns\")\n",
    "samsung_price\n",
    "\n",
    "samsung_return = (samsung_price - samsung_price.shift(1))/samsung_price.shift(1)\n",
    "samsung_return = samsung_return * 100\n",
    "samsung_return"
   ]
  },
  {
   "cell_type": "code",
   "execution_count": 9,
   "id": "2ae8e569-3c5a-4e76-94fb-971baf29d16f",
   "metadata": {},
   "outputs": [
    {
     "data": {
      "text/plain": [
       "Close\n",
       "(-1.33, 0.356]      414\n",
       "(0.356, 2.041]      298\n",
       "(-3.016, -1.33]     137\n",
       "(2.041, 3.727]       70\n",
       "(-4.702, -3.016]     31\n",
       "(3.727, 5.413]       19\n",
       "(-6.405, -4.702]      3\n",
       "(5.413, 7.099]        2\n",
       "(7.099, 8.785]        1\n",
       "(8.785, 10.471]       1\n",
       "Name: count, dtype: int64"
      ]
     },
     "execution_count": 9,
     "metadata": {},
     "output_type": "execute_result"
    }
   ],
   "source": [
    "# pd.cut()\n",
    "pd.cut(samsung_return, bins=10)\n",
    "pd.cut(samsung_return, bins=10).value_counts()"
   ]
  },
  {
   "cell_type": "code",
   "execution_count": 11,
   "id": "3765fc95-466c-4016-bc46-42197d451dce",
   "metadata": {},
   "outputs": [
    {
     "data": {
      "text/plain": [
       "Close\n",
       "(-0.332, 0.0]       108\n",
       "(-6.389, -1.938]     98\n",
       "(-1.938, -1.161]     98\n",
       "(-0.702, -0.332]     98\n",
       "(0.753, 1.22]        98\n",
       "(2.003, 10.471]      98\n",
       "(-1.161, -0.702]     97\n",
       "(0.358, 0.753]       97\n",
       "(1.22, 2.003]        97\n",
       "(0.0, 0.358]         87\n",
       "Name: count, dtype: int64"
      ]
     },
     "execution_count": 11,
     "metadata": {},
     "output_type": "execute_result"
    }
   ],
   "source": [
    "# pd qcut()\n",
    "pd.qcut(samsung_return, 10)\n",
    "pd.qcut(samsung_return, 10).value_counts()"
   ]
  },
  {
   "cell_type": "code",
   "execution_count": null,
   "id": "48d10a21-96e3-4d19-8456-552715d74586",
   "metadata": {},
   "outputs": [],
   "source": []
  }
 ],
 "metadata": {
  "kernelspec": {
   "display_name": "Python 3 (ipykernel)",
   "language": "python",
   "name": "python3"
  },
  "language_info": {
   "codemirror_mode": {
    "name": "ipython",
    "version": 3
   },
   "file_extension": ".py",
   "mimetype": "text/x-python",
   "name": "python",
   "nbconvert_exporter": "python",
   "pygments_lexer": "ipython3",
   "version": "3.11.6"
  },
  "toc": {
   "base_numbering": 1,
   "nav_menu": {},
   "number_sections": true,
   "sideBar": true,
   "skip_h1_title": false,
   "title_cell": "Table of Contents",
   "title_sidebar": "Contents",
   "toc_cell": false,
   "toc_position": {
    "height": "calc(100% - 180px)",
    "left": "10px",
    "top": "150px",
    "width": "343.325px"
   },
   "toc_section_display": true,
   "toc_window_display": true
  },
  "varInspector": {
   "cols": {
    "lenName": 16,
    "lenType": 16,
    "lenVar": 40
   },
   "kernels_config": {
    "python": {
     "delete_cmd_postfix": "",
     "delete_cmd_prefix": "del ",
     "library": "var_list.py",
     "varRefreshCmd": "print(var_dic_list())"
    },
    "r": {
     "delete_cmd_postfix": ") ",
     "delete_cmd_prefix": "rm(",
     "library": "var_list.r",
     "varRefreshCmd": "cat(var_dic_list()) "
    }
   },
   "position": {
    "height": "143.958px",
    "left": "1345.67px",
    "right": "20px",
    "top": "120px",
    "width": "350px"
   },
   "types_to_exclude": [
    "module",
    "function",
    "builtin_function_or_method",
    "instance",
    "_Feature"
   ],
   "window_display": false
  }
 },
 "nbformat": 4,
 "nbformat_minor": 5
}

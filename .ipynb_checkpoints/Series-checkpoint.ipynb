{
 "cells": [
  {
   "cell_type": "markdown",
   "id": "feb50487-127e-449f-9d04-4448d5da2cbd",
   "metadata": {},
   "source": [
    "# About Series"
   ]
  },
  {
   "cell_type": "markdown",
   "id": "cae12e3c-5943-4b14-9cb0-8546c59df8f4",
   "metadata": {},
   "source": [
    "- Series 란?\n",
    "  Data의 컬럼이 1개인 자료구조이며, 인덱스와 1개의 열로 구성되어 있음"
   ]
  },
  {
   "cell_type": "markdown",
   "id": "e39ce97f-b5ce-41de-8c3d-74db75b8a025",
   "metadata": {
    "jp-MarkdownHeadingCollapsed": true
   },
   "source": [
    "## Series 만드는 방법"
   ]
  },
  {
   "cell_type": "code",
   "execution_count": 1,
   "id": "0d6669c3-0bbf-4cd8-8042-2679103066a2",
   "metadata": {},
   "outputs": [],
   "source": [
    "import pandas as pd"
   ]
  },
  {
   "cell_type": "code",
   "execution_count": 5,
   "id": "a6b489b5-6883-4b94-85d0-9f242e28a7ec",
   "metadata": {},
   "outputs": [
    {
     "data": {
      "text/plain": [
       "0        1\n",
       "1        2\n",
       "2        3\n",
       "3    Apple\n",
       "4     play\n",
       "5        6\n",
       "6        7\n",
       "7        8\n",
       "8        9\n",
       "dtype: object"
      ]
     },
     "execution_count": 5,
     "metadata": {},
     "output_type": "execute_result"
    }
   ],
   "source": [
    "# Data Type이 '리스트'인 경우\n",
    "\n",
    "ls1 = [1, 2, 3, 4, 5, 6, 7, 8, 9]\n",
    "ls2 = [1, 2, 3, 'Apple', 'play', 6, 7, 8, 9]\n",
    "\n",
    "sr1 = pd.Series(ls1)\n",
    "sr1\n",
    "\n",
    "sr2 = pd.Series(ls2)\n",
    "sr2"
   ]
  },
  {
   "cell_type": "code",
   "execution_count": 6,
   "id": "c79ddcd2-134d-43de-a873-4433c130cbc3",
   "metadata": {},
   "outputs": [
    {
     "data": {
      "text/plain": [
       "0        1\n",
       "1        2\n",
       "2        3\n",
       "3    Apple\n",
       "4     play\n",
       "5        6\n",
       "6        7\n",
       "7        8\n",
       "8        9\n",
       "Name: Word, dtype: object"
      ]
     },
     "execution_count": 6,
     "metadata": {},
     "output_type": "execute_result"
    }
   ],
   "source": [
    "# Series에 Name 설정\n",
    "\n",
    "sr1.name = \"Number\"\n",
    "sr2.name = \"Word\"\n",
    "sr2"
   ]
  },
  {
   "cell_type": "code",
   "execution_count": 9,
   "id": "d3e40dbc-477a-48da-bb12-bbde1348b3b9",
   "metadata": {},
   "outputs": [
    {
     "data": {
      "text/plain": [
       "a    1\n",
       "b    2\n",
       "c    3\n",
       "d    4\n",
       "Name: Number, dtype: int64"
      ]
     },
     "execution_count": 9,
     "metadata": {},
     "output_type": "execute_result"
    }
   ],
   "source": [
    "# Data Type이 '딕셔너리'인 경우\n",
    "dic1 = {'a':1, 'b':2, 'c':3, 'd':4}\n",
    "\n",
    "sr3 = pd.Series(dic1)\n",
    "sr3\n",
    "sr3.name = \"Number\"\n",
    "sr3"
   ]
  },
  {
   "cell_type": "markdown",
   "id": "c9a56bf6-f7a6-4a5a-9083-ab4bd503bee4",
   "metadata": {
    "jp-MarkdownHeadingCollapsed": true
   },
   "source": [
    "## 삼성전자 종가 Series로 불러오기"
   ]
  },
  {
   "cell_type": "code",
   "execution_count": 22,
   "id": "9f875329-007d-4e2c-83c1-f49eefd9f92b",
   "metadata": {},
   "outputs": [
    {
     "data": {
      "text/plain": [
       "Date\n",
       "2018-01-02    51020\n",
       "2018-01-03    51620\n",
       "2018-01-04    51080\n",
       "2018-01-05    52120\n",
       "2018-01-08    52020\n",
       "              ...  \n",
       "2021-12-13    76800\n",
       "2021-12-14    77000\n",
       "2021-12-15    77600\n",
       "2021-12-16    77800\n",
       "2021-12-17    78000\n",
       "Name: Close, Length: 977, dtype: int64"
      ]
     },
     "execution_count": 22,
     "metadata": {},
     "output_type": "execute_result"
    }
   ],
   "source": [
    "import pandas as pd\n",
    "\n",
    "# squeeze 옵션은 Pandas 1.2.0 이후 제거되었으므로, squeeze=True 없이 실행\n",
    "# 이전 squeeze=True의 기능을 대체하려면 squeeze() 메서드를 따로 적용\n",
    "a = pd.read_csv('삼성전자 종가.csv', index_col=0, header = 0).squeeze(\"columns\")\n",
    "a"
   ]
  },
  {
   "cell_type": "markdown",
   "id": "0f2125b1-4374-445d-974c-944edd4da73c",
   "metadata": {},
   "source": [
    "## Series Index & Value"
   ]
  },
  {
   "cell_type": "code",
   "execution_count": 25,
   "id": "f4e9211a-a806-49eb-af79-444e50ac125b",
   "metadata": {},
   "outputs": [
    {
     "data": {
      "text/plain": [
       "Date\n",
       "2018-01-02    51020\n",
       "2018-01-03    51620\n",
       "2018-01-04    51080\n",
       "2018-01-05    52120\n",
       "2018-01-08    52020\n",
       "              ...  \n",
       "2021-12-13    76800\n",
       "2021-12-14    77000\n",
       "2021-12-15    77600\n",
       "2021-12-16    77800\n",
       "2021-12-17    78000\n",
       "Name: Close, Length: 977, dtype: int64"
      ]
     },
     "execution_count": 25,
     "metadata": {},
     "output_type": "execute_result"
    }
   ],
   "source": [
    "import pandas as pd\n",
    "\n",
    "samsung_price = pd.read_csv('삼성전자 종가.csv', index_col=0, header = 0).squeeze(\"columns\")\n",
    "samsung_price"
   ]
  },
  {
   "cell_type": "code",
   "execution_count": 26,
   "id": "bfea8603-06a4-4009-8c2f-21f5d0c27023",
   "metadata": {},
   "outputs": [
    {
     "data": {
      "text/plain": [
       "Index(['2018-01-02', '2018-01-03', '2018-01-04', '2018-01-05', '2018-01-08',\n",
       "       '2018-01-09', '2018-01-10', '2018-01-11', '2018-01-12', '2018-01-15',\n",
       "       ...\n",
       "       '2021-12-06', '2021-12-07', '2021-12-08', '2021-12-09', '2021-12-10',\n",
       "       '2021-12-13', '2021-12-14', '2021-12-15', '2021-12-16', '2021-12-17'],\n",
       "      dtype='object', name='Date', length=977)"
      ]
     },
     "execution_count": 26,
     "metadata": {},
     "output_type": "execute_result"
    }
   ],
   "source": [
    "samsung_price.index"
   ]
  },
  {
   "cell_type": "code",
   "execution_count": 29,
   "id": "1a472b1b-13c4-46cb-b0d4-bf605ff1a2e0",
   "metadata": {},
   "outputs": [
    {
     "name": "stdout",
     "output_type": "stream",
     "text": [
      "73800\n"
     ]
    }
   ],
   "source": [
    "if '2020-12-15' in samsung_price.index:\n",
    "    print(samsung_price.loc['2020-12-15'])\n",
    "\n",
    "# loc 특정한 인덱스의 값이 있는지 확인"
   ]
  },
  {
   "cell_type": "code",
   "execution_count": 31,
   "id": "66517edc-d1f6-40d8-8948-2e22878b8565",
   "metadata": {},
   "outputs": [
    {
     "data": {
      "text/plain": [
       "49500"
      ]
     },
     "execution_count": 31,
     "metadata": {},
     "output_type": "execute_result"
    }
   ],
   "source": [
    "samsung_price.iloc[100]\n",
    "\n",
    "# iloc 인덱스(번호) 값 가져오기"
   ]
  },
  {
   "cell_type": "markdown",
   "id": "6b99a3a7-b899-43df-a7ec-b0ebe25f3e69",
   "metadata": {},
   "source": [
    "## Series에 새로운 행을 추가"
   ]
  },
  {
   "cell_type": "code",
   "execution_count": 32,
   "id": "5e3efbf9-a7a8-49c8-b445-1b0cd51b3612",
   "metadata": {},
   "outputs": [
    {
     "data": {
      "text/plain": [
       "Date\n",
       "2018-01-02    51020\n",
       "2018-01-03    51620\n",
       "2018-01-04    51080\n",
       "2018-01-05    52120\n",
       "2018-01-08    52020\n",
       "              ...  \n",
       "2021-12-13    76800\n",
       "2021-12-14    77000\n",
       "2021-12-15    77600\n",
       "2021-12-16    77800\n",
       "2021-12-17    78000\n",
       "Name: Close, Length: 977, dtype: int64"
      ]
     },
     "execution_count": 32,
     "metadata": {},
     "output_type": "execute_result"
    }
   ],
   "source": [
    "import pandas as pd\n",
    "\n",
    "samsung_price = pd.read_csv('삼성전자 종가.csv', index_col=0, header = 0).squeeze(\"columns\")\n",
    "samsung_price"
   ]
  },
  {
   "cell_type": "code",
   "execution_count": 37,
   "id": "797afd4b-df91-45f5-ab8c-bd6fa85103f1",
   "metadata": {},
   "outputs": [
    {
     "data": {
      "text/plain": [
       "(977,)"
      ]
     },
     "execution_count": 37,
     "metadata": {},
     "output_type": "execute_result"
    }
   ],
   "source": [
    "# 총 길이는?\n",
    "#samsung_price.index[samsung_price.shape[0]-1]\n",
    "samsung_price.shape"
   ]
  },
  {
   "cell_type": "code",
   "execution_count": 41,
   "id": "375b9a48-9850-4965-a28c-9b2e42b654d8",
   "metadata": {},
   "outputs": [
    {
     "data": {
      "text/plain": [
       "Date\n",
       "2018-01-02    51020\n",
       "2018-01-03    51620\n",
       "2018-01-04    51080\n",
       "2018-01-05    52120\n",
       "2018-01-08    52020\n",
       "              ...  \n",
       "2021-12-14    77000\n",
       "2021-12-15    77600\n",
       "2021-12-16      100\n",
       "2021-12-17    78000\n",
       "2021-12-20    77100\n",
       "Name: Close, Length: 978, dtype: int64"
      ]
     },
     "execution_count": 41,
     "metadata": {},
     "output_type": "execute_result"
    }
   ],
   "source": [
    "samsung_price.loc['2021-12-20'] = 77100\n",
    "samsung_price\n",
    "\n",
    "samsung_price.loc['2021-12-16'] = 100\n",
    "samsung_price"
   ]
  },
  {
   "cell_type": "markdown",
   "id": "55c1605d-09c7-450a-9370-81fbde98355a",
   "metadata": {},
   "source": [
    "## 두개의 Series 연결"
   ]
  },
  {
   "cell_type": "code",
   "execution_count": 9,
   "id": "5152115a-b7c3-4be8-a3f9-cc00fb4ce8cb",
   "metadata": {},
   "outputs": [
    {
     "data": {
      "text/plain": [
       "0      51020\n",
       "1      51620\n",
       "2      51080\n",
       "3      52120\n",
       "4      52020\n",
       "       ...  \n",
       "977    77100\n",
       "978    78100\n",
       "979    79400\n",
       "980    79900\n",
       "981    80500\n",
       "Name: Close, Length: 982, dtype: int64"
      ]
     },
     "execution_count": 9,
     "metadata": {},
     "output_type": "execute_result"
    }
   ],
   "source": [
    "import pandas as pd\n",
    "\n",
    "series1_samsung = pd.read_excel('samsung_excel.xlsx', sheet_name = 'Sheet1', index_col = 0).squeeze(\"columns\")\n",
    "series1_samsung\n",
    "\n",
    "series2_samsung = pd.read_excel('samsung_excel.xlsx', sheet_name = 'Sheet2', index_col = 0).squeeze(\"columns\")\n",
    "series2_samsung\n",
    "\n",
    "\n",
    "# Pandas 1.3.0 이후 버전에서 Series.append()가 제거되었음\n",
    "# pd.concat() 사용\n",
    "\n",
    "series_samsung = pd.concat([series1_samsung, series2_samsung], ignore_index=False)\n",
    "series_samsung"
   ]
  },
  {
   "cell_type": "code",
   "execution_count": null,
   "id": "dadc523b-f11e-47b6-ac96-8d9ef30df4b5",
   "metadata": {},
   "outputs": [],
   "source": []
  }
 ],
 "metadata": {
  "kernelspec": {
   "display_name": "Python 3 (ipykernel)",
   "language": "python",
   "name": "python3"
  },
  "language_info": {
   "codemirror_mode": {
    "name": "ipython",
    "version": 3
   },
   "file_extension": ".py",
   "mimetype": "text/x-python",
   "name": "python",
   "nbconvert_exporter": "python",
   "pygments_lexer": "ipython3",
   "version": "3.11.6"
  },
  "toc": {
   "base_numbering": 1,
   "nav_menu": {},
   "number_sections": true,
   "sideBar": true,
   "skip_h1_title": false,
   "title_cell": "Table of Contents",
   "title_sidebar": "Contents",
   "toc_cell": false,
   "toc_position": {
    "height": "calc(100% - 180px)",
    "left": "10px",
    "top": "150px",
    "width": "343.325px"
   },
   "toc_section_display": true,
   "toc_window_display": true
  },
  "varInspector": {
   "cols": {
    "lenName": 16,
    "lenType": 16,
    "lenVar": 40
   },
   "kernels_config": {
    "python": {
     "delete_cmd_postfix": "",
     "delete_cmd_prefix": "del ",
     "library": "var_list.py",
     "varRefreshCmd": "print(var_dic_list())"
    },
    "r": {
     "delete_cmd_postfix": ") ",
     "delete_cmd_prefix": "rm(",
     "library": "var_list.r",
     "varRefreshCmd": "cat(var_dic_list()) "
    }
   },
   "position": {
    "height": "143.958px",
    "left": "1345.67px",
    "right": "20px",
    "top": "120px",
    "width": "350px"
   },
   "types_to_exclude": [
    "module",
    "function",
    "builtin_function_or_method",
    "instance",
    "_Feature"
   ],
   "window_display": false
  }
 },
 "nbformat": 4,
 "nbformat_minor": 5
}
